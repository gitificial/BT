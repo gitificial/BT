{
 "cells": [
  {
   "cell_type": "code",
   "execution_count": 3,
   "metadata": {},
   "outputs": [],
   "source": [
    "\"\"\"\n",
    "Concatenate all positive training instances (original + augmented) into one file. \n",
    "\"\"\"\n",
    "# add original\n",
    "with open('./data/positive_lowerhalf_shuffled_100.txt') as f1:\n",
    "    lines = f1.readlines()\n",
    "with open('./data/positive_lowerhalf_shuffled_exchange.txt','a') as f2:\n",
    "    f2.writelines(lines)\n",
    "\n",
    "#add augmented\n",
    "for filenumber in range(0, 39, 1):\n",
    "    inputfile='./data/positive_lowerhalf_shuffled_exchange_' + str(filenumber) + '.txt'\n",
    "    with open(inputfile) as f1:\n",
    "        lines = f1.readlines()\n",
    "    with open('./data/positive_lowerhalf_shuffled_exchange.txt','a') as f2:\n",
    "        f2.writelines(lines)"
   ]
  },
  {
   "cell_type": "code",
   "execution_count": 4,
   "metadata": {},
   "outputs": [],
   "source": [
    "\"\"\"\n",
    "Concatenate all negative training instances (original + augmented) into one file. \n",
    "\"\"\"\n",
    "\n",
    "# add original\n",
    "with open('./data/negative_lowerhalf_shuffled_100.txt') as f1:\n",
    "    lines = f1.readlines()\n",
    "with open('./data/negative_lowerhalf_shuffled_exchange.txt','a') as f2:\n",
    "    f2.writelines(lines)\n",
    "\n",
    "# add augmented\n",
    "for filenumber in range(0, 39, 1):\n",
    "    inputfile='./data/negative_lowerhalf_shuffled_exchange_' + str(filenumber) + '.txt'\n",
    "    with open(inputfile) as f1:\n",
    "        lines = f1.readlines()\n",
    "    with open('./data/negative_lowerhalf_shuffled_exchange.txt','a') as f2:\n",
    "        f2.writelines(lines)"
   ]
  },
  {
   "cell_type": "code",
   "execution_count": null,
   "metadata": {},
   "outputs": [],
   "source": []
  }
 ],
 "metadata": {
  "kernelspec": {
   "display_name": "Python 3",
   "language": "python",
   "name": "python3"
  },
  "language_info": {
   "codemirror_mode": {
    "name": "ipython",
    "version": 3
   },
   "file_extension": ".py",
   "mimetype": "text/x-python",
   "name": "python",
   "nbconvert_exporter": "python",
   "pygments_lexer": "ipython3",
   "version": "3.6.8"
  }
 },
 "nbformat": 4,
 "nbformat_minor": 2
}
