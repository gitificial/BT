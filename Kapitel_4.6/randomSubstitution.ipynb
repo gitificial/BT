{
 "cells": [
  {
   "cell_type": "code",
   "execution_count": null,
   "metadata": {},
   "outputs": [],
   "source": [
    "import sys\n",
    "\n",
    "from textblob import TextBlob\n",
    "import pickle\n",
    "import pandas as pd"
   ]
  },
  {
   "cell_type": "code",
   "execution_count": null,
   "metadata": {},
   "outputs": [],
   "source": [
    "print(sys.maxsize)\n",
    "print(-sys.maxsize -1)"
   ]
  },
  {
   "cell_type": "code",
   "execution_count": null,
   "metadata": {},
   "outputs": [],
   "source": [
    "# Find nouns in negative_lowerhalf_shuffled.txt (drop duplicates) and add to dataframe\n",
    "df = pd.DataFrame()\n",
    "\n",
    "i = 0\n",
    "\n",
    "with open(\"./data/negative_lowerhalf_shuffled.txt\") as infile:\n",
    "    for line in infile:\n",
    "        content = TextBlob(line)\n",
    "        \"\"\"\n",
    "        NN noun, singular ‘desk’\n",
    "        NNS noun plural ‘desks’\n",
    "        NNP proper noun, singular ‘Harrison’\n",
    "        NNPS proper noun, plural ‘Americans’\n",
    "        \"\"\"\n",
    "        nouns = [n for n,t in content.tags if(t == 'NN' or t == 'NNS' or t == 'NNP' or t == 'NNPS')]\n",
    "        # print(nouns)\n",
    "        \n",
    "        if len(nouns) > 0:\n",
    "            # if list is not empty add to dataframe\n",
    "            df = df.append(nouns, ignore_index=True)\n",
    "        else:\n",
    "            pass\n",
    "\n",
    "        if(i % 10000 == 0):\n",
    "            print(i)\n",
    "        i = i + 1\n",
    "        \n",
    "# find duplicates and drop them\n",
    "df = df.drop_duplicates()\n",
    "# df.head(10)\n",
    "print(\"done.\")"
   ]
  },
  {
   "cell_type": "code",
   "execution_count": null,
   "metadata": {},
   "outputs": [],
   "source": [
    "# dump negative_lowerhalf nouns to pickle file\n",
    "with open('./data/negative_lowerhalf_nouns_pickle', 'wb') as fp:\n",
    "    pickle.dump(df, fp)"
   ]
  },
  {
   "cell_type": "code",
   "execution_count": null,
   "metadata": {},
   "outputs": [],
   "source": [
    "# load negative_lowerhalf nouns from pickle file ('NN', 'NNS', 'NNP', 'NNPS') to df_dict\n",
    "\n",
    "df_dict = pd.DataFrame()\n",
    "\n",
    "with open ('./data/negative_lowerhalf_nouns_pickle', 'rb') as fp:\n",
    "    df_dict = pickle.load(fp)\n",
    "    \n",
    "# shuffle Nouns\n",
    "df_dict = df_dict.sample(frac=1).reset_index(drop=True)"
   ]
  },
  {
   "cell_type": "code",
   "execution_count": null,
   "metadata": {},
   "outputs": [],
   "source": [
    "df_dict.shape"
   ]
  },
  {
   "cell_type": "code",
   "execution_count": null,
   "metadata": {},
   "outputs": [],
   "source": [
    "# Read file negative_lowerhalf_shuffled.txt line by line, find Nouns ('NN', 'NNS', 'NNP', 'NNPS') \n",
    "# and replace with random noun from df_dict.\n",
    "# Write modified lines to new file negative_half_shuffled_substitute.txt\n",
    "\n",
    "# print(df_dict.values[1])\n",
    "new_line = []\n",
    "string = ''\n",
    "i = 0\n",
    "with open(\"./data/negative_lowerhalf_shuffled.txt\") as infile:\n",
    "# with open(\"negative_half_shuffled_test.txt\") as infile:\n",
    "    for line in infile:\n",
    "        new_line = []\n",
    "        # print('Line: ', line)\n",
    "        content = TextBlob(line)\n",
    "        nouns = [n for n,t in content.tags if(t == 'NN' or t == 'NNS' or t == 'NNP' or t == 'NNPS')]\n",
    "        # print('Nouns: ', nouns)\n",
    "        for word, tag in content.tags:\n",
    "            if(tag == 'NN' or tag == 'NNS' or tag == 'NNP' or tag == 'NNPS'):\n",
    "                new_line.append(str(df_dict.values[i].item()))\n",
    "            else:\n",
    "                new_line.append(word)\n",
    "                \n",
    "            # check if end of df_dict reached\n",
    "            if(i < (df_dict.shape[0] - 1)):\n",
    "                i = i + 1\n",
    "            else:\n",
    "                i = 0\n",
    "            \n",
    "        with open('./data/negative_half_shuffled_substitute.txt', 'a') as file:\n",
    "            if(len(new_line) > 0):\n",
    "                file.write(' '.join(new_line))\n",
    "\n",
    "        # print('New line: ', new_line)"
   ]
  },
  {
   "cell_type": "code",
   "execution_count": null,
   "metadata": {},
   "outputs": [],
   "source": [
    "# Find nouns in positive_lowerhalf_shuffled.txt (drop duplicates) and add to dataframe\n",
    "df = pd.DataFrame()\n",
    "\n",
    "i = 0\n",
    "\n",
    "with open(\"./data/positive_lowerhalf_shuffled.txt\") as infile:\n",
    "    for line in infile:\n",
    "        content = TextBlob(line)\n",
    "        \"\"\"\n",
    "        NN noun, singular ‘desk’\n",
    "        NNS noun plural ‘desks’\n",
    "        NNP proper noun, singular ‘Harrison’\n",
    "        NNPS proper noun, plural ‘Americans’\n",
    "        \"\"\"\n",
    "        nouns = [n for n,t in content.tags if(t == 'NN' or t == 'NNS' or t == 'NNP' or t == 'NNPS')]\n",
    "        # print(nouns)\n",
    "        \n",
    "        if len(nouns) > 0:\n",
    "            # if list is not empty add to dataframe\n",
    "            df = df.append(nouns, ignore_index=True)\n",
    "        else:\n",
    "            pass\n",
    "\n",
    "        if(i % 10000 == 0):\n",
    "            print(i)\n",
    "        i = i + 1\n",
    "        \n",
    "# find duplicates and drop them\n",
    "df = df.drop_duplicates()\n",
    "# df.head(10)\n",
    "print(\"done.\")"
   ]
  },
  {
   "cell_type": "code",
   "execution_count": null,
   "metadata": {},
   "outputs": [],
   "source": [
    "# dump positive_lowerhalf nouns to pickle file\n",
    "with open('./data/positive_lowerhalf_nouns_pickle', 'wb') as fp:\n",
    "    pickle.dump(df, fp)"
   ]
  },
  {
   "cell_type": "code",
   "execution_count": null,
   "metadata": {},
   "outputs": [],
   "source": [
    "# load positive_lowerhalf nouns from pickle file ('NN', 'NNS', 'NNP', 'NNPS') to df_dict\n",
    "\n",
    "df_dict = pd.DataFrame()\n",
    "\n",
    "with open ('./data/positive_lowerhalf_nouns_pickle', 'rb') as fp:\n",
    "    df_dict = pickle.load(fp)\n",
    "    \n",
    "# shuffle Nouns\n",
    "df_dict = df_dict.sample(frac=1).reset_index(drop=True)"
   ]
  },
  {
   "cell_type": "code",
   "execution_count": null,
   "metadata": {},
   "outputs": [],
   "source": [
    "# Read file positive_lowerhalf_shuffled.txt line by line, find Nouns ('NN', 'NNS', 'NNP', 'NNPS') \n",
    "# and replace with random noun from df_dict.\n",
    "# Write modified lines to new file positive_half_shuffled_substitute.txt\n",
    "\n",
    "# print(df_dict.values[1])\n",
    "new_line = []\n",
    "string = ''\n",
    "i = 0\n",
    "with open(\"./data/positive_lowerhalf_shuffled.txt\") as infile:\n",
    "    for line in infile:\n",
    "        new_line = []\n",
    "        print('Line: ', line)\n",
    "        content = TextBlob(line)\n",
    "        nouns = [n for n,t in content.tags if(t == 'NN' or t == 'NNS' or t == 'NNP' or t == 'NNPS')]\n",
    "        # print('Nouns: ', nouns)\n",
    "        for word, tag in content.tags:\n",
    "            if(tag == 'NN' or tag == 'NNS' or tag == 'NNP' or tag == 'NNPS'):\n",
    "                new_line.append(str(df_dict.values[i].item()))\n",
    "            else:\n",
    "                new_line.append(word)\n",
    "                \n",
    "            # check if end of df_dict reached\n",
    "            if(i < (df_dict.shape[0] - 1)):\n",
    "                i = i + 1\n",
    "            else:\n",
    "                i = 0\n",
    "            \n",
    "        with open('./data/positive_half_shuffled_substitute.txt', 'a') as file:\n",
    "            if(len(new_line) > 0):\n",
    "                file.write(' '.join(new_line))"
   ]
  },
  {
   "cell_type": "code",
   "execution_count": null,
   "metadata": {},
   "outputs": [],
   "source": []
  }
 ],
 "metadata": {
  "kernelspec": {
   "display_name": "Python 3",
   "language": "python",
   "name": "python3"
  },
  "language_info": {
   "codemirror_mode": {
    "name": "ipython",
    "version": 3
   },
   "file_extension": ".py",
   "mimetype": "text/x-python",
   "name": "python",
   "nbconvert_exporter": "python",
   "pygments_lexer": "ipython3",
   "version": "3.6.8"
  }
 },
 "nbformat": 4,
 "nbformat_minor": 2
}
