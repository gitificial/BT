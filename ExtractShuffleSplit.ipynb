{
 "cells": [
  {
   "cell_type": "code",
   "execution_count": null,
   "metadata": {},
   "outputs": [],
   "source": [
    "import os\n",
    "\n",
    "import nltk\n",
    "import numpy as np\n",
    "import pandas as pd\n",
    "import pickle\n",
    "\n",
    "# display all entries (no colapse)\n",
    "pd.set_option('display.max_columns', None)  # or 1000\n",
    "pd.set_option('display.max_rows', None)  # or 1000\n",
    "pd.set_option('display.max_colwidth', -1)  # or 199"
   ]
  },
  {
   "cell_type": "code",
   "execution_count": null,
   "metadata": {},
   "outputs": [],
   "source": [
    "# Load Hotel Reviews CSV file\n",
    "train = pd.read_csv('Hotel_Reviews.csv', delimiter=',')\n",
    "train.shape"
   ]
  },
  {
   "cell_type": "code",
   "execution_count": null,
   "metadata": {},
   "outputs": [],
   "source": [
    "#---------------positive reviews---------------------------\n",
    "# extract all positive reviews except 'No Positive'\n",
    "pos_df = pd.DataFrame(train, columns=['Positive_Review'])\n",
    "pos_df = pos_df[pos_df.Positive_Review != 'No Positive']\n",
    "\n",
    "# shuffle all rows and reset index\n",
    "pos_df = pos_df.sample(frac=1).reset_index(drop=True)\n",
    "\n",
    "# size of one half of the dataset\n",
    "half_size = int((pos_df.shape[0])/2)\n",
    "\n",
    "pos_df_lower = pos_df.iloc[:half_size]\n",
    "np.savetxt(r'positive_lowerhalf_shuffled.txt', pos_df_lower.values, fmt='%s')\n",
    "\n",
    "pos_df_upper = pos_df.iloc[half_size:]\n",
    "np.savetxt(r'positive_upperhalf_shuffled.txt', pos_df_upper.values, fmt='%s')\n",
    "#----------------------------------------------------------"
   ]
  },
  {
   "cell_type": "code",
   "execution_count": null,
   "metadata": {},
   "outputs": [],
   "source": [
    "#---------------negative reviews---------------------------\n",
    "neg_df = pd.DataFrame(train, columns=['Negative_Review'])\n",
    "neg_df = neg_df[neg_df.Negative_Review != 'No Negative']\n",
    "\n",
    "# shuffle all rows and reset index\n",
    "neg_df = neg_df.sample(frac=1).reset_index(drop=True)\n",
    "\n",
    "# size of one half of the dataset\n",
    "half_size = int((neg_df.shape[0])/2)\n",
    "\n",
    "neg_df_lower = neg_df.iloc[:half_size]\n",
    "np.savetxt(r'negative_lowerhalf_shuffled.txt', neg_df_lower.values, fmt='%s')\n",
    "\n",
    "neg_df_upper = neg_df.iloc[half_size:]\n",
    "np.savetxt(r'negative_upperhalf_shuffled.txt', neg_df_upper.values, fmt='%s')\n",
    "\n",
    "#----------------------------------------------------------"
   ]
  }
 ],
 "metadata": {
  "kernelspec": {
   "display_name": "Python 3",
   "language": "python",
   "name": "python3"
  },
  "language_info": {
   "codemirror_mode": {
    "name": "ipython",
    "version": 3
   },
   "file_extension": ".py",
   "mimetype": "text/x-python",
   "name": "python",
   "nbconvert_exporter": "python",
   "pygments_lexer": "ipython3",
   "version": "3.6.8"
  }
 },
 "nbformat": 4,
 "nbformat_minor": 2
}
