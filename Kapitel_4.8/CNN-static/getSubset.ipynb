{
 "cells": [
  {
   "cell_type": "code",
   "execution_count": 1,
   "metadata": {},
   "outputs": [
    {
     "data": {
      "text/plain": [
       "'\\nExtracts the first 100 training instances of the positive/negative lowerhalf and\\nwrites it to a new file. => original data for augmentation process\\n'"
      ]
     },
     "execution_count": 1,
     "metadata": {},
     "output_type": "execute_result"
    }
   ],
   "source": [
    "\"\"\"\n",
    "Extracts the first 100 training instances of the positive/negative lowerhalf and\n",
    "writes it to a new file. => original data for augmentation process\n",
    "\"\"\""
   ]
  },
  {
   "cell_type": "code",
   "execution_count": 2,
   "metadata": {},
   "outputs": [],
   "source": [
    "with open(\"./data/positive_lowerhalf_shuffled.txt\") as f1:\n",
    "    with open(\"./data/positive_lowerhalf_shuffled_100.txt\",\"w\") as f2:\n",
    "        for _ in range(100):\n",
    "            f2.write(f1.readline())"
   ]
  },
  {
   "cell_type": "code",
   "execution_count": 3,
   "metadata": {},
   "outputs": [],
   "source": [
    "with open(\"./data/negative_lowerhalf_shuffled.txt\") as f1:\n",
    "    with open(\"./data/negative_lowerhalf_shuffled_100.txt\",\"w\") as f2:\n",
    "        for _ in range(100):\n",
    "            f2.write(f1.readline())"
   ]
  },
  {
   "cell_type": "code",
   "execution_count": 4,
   "metadata": {},
   "outputs": [
    {
     "data": {
      "text/plain": [
       "'\\nExtracts the first 800 training instances of the positive/negative upperhalf and\\nwrites it to a new file. => original data for test\\n'"
      ]
     },
     "execution_count": 4,
     "metadata": {},
     "output_type": "execute_result"
    }
   ],
   "source": [
    "\"\"\"\n",
    "Extracts the first 800 training instances of the positive/negative upperhalf and\n",
    "writes it to a new file. => original data for test\n",
    "\"\"\""
   ]
  },
  {
   "cell_type": "code",
   "execution_count": 5,
   "metadata": {},
   "outputs": [],
   "source": [
    "with open(\"./data/positive_upperhalf_shuffled.txt\") as f1:\n",
    "    with open(\"./data/positive_upperhalf_shuffled_800.txt\",\"w\") as f2:\n",
    "        for _ in range(800):\n",
    "            f2.write(f1.readline())"
   ]
  },
  {
   "cell_type": "code",
   "execution_count": 6,
   "metadata": {},
   "outputs": [],
   "source": [
    "with open(\"./data/negative_upperhalf_shuffled.txt\") as f1:\n",
    "    with open(\"./data/negative_upperhalf_shuffled_800.txt\",\"w\") as f2:\n",
    "        for _ in range(800):\n",
    "            f2.write(f1.readline())"
   ]
  }
 ],
 "metadata": {
  "kernelspec": {
   "display_name": "Python 3",
   "language": "python",
   "name": "python3"
  },
  "language_info": {
   "codemirror_mode": {
    "name": "ipython",
    "version": 3
   },
   "file_extension": ".py",
   "mimetype": "text/x-python",
   "name": "python",
   "nbconvert_exporter": "python",
   "pygments_lexer": "ipython3",
   "version": "3.6.8"
  }
 },
 "nbformat": 4,
 "nbformat_minor": 2
}
