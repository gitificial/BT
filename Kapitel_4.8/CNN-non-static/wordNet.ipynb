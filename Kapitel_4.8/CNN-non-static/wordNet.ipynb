{
 "cells": [
  {
   "cell_type": "code",
   "execution_count": 1,
   "metadata": {},
   "outputs": [],
   "source": [
    "from __future__ import print_function\n",
    "\n",
    "import numpy as np\n",
    "import re\n",
    "import itertools\n",
    "from collections import Counter\n",
    "import pickle\n",
    "\n",
    "from gensim.models import word2vec\n",
    "from os.path import join, exists, split\n",
    "import os\n",
    "\n",
    "import sys\n",
    "from textblob import TextBlob\n",
    "import pandas as pd\n",
    "\n",
    "import nltk\n",
    "from nltk.corpus import wordnet as wn"
   ]
  },
  {
   "cell_type": "code",
   "execution_count": 2,
   "metadata": {},
   "outputs": [
    {
     "name": "stdout",
     "output_type": "stream",
     "text": [
      "0\n",
      "done.\n"
     ]
    }
   ],
   "source": [
    "\"\"\"\n",
    "    Open positive lowerhalf shuffeld 100 training instances file. \n",
    "    Read file line by line, find Nouns ('NN', 'NNS', 'NNP', 'NNPS') \n",
    "    and replace with most_similar word, selected rank depending on actual position.\n",
    "    If no most_similar exists, leave the actual word. \n",
    "    Write un- and modified lines to new file.\n",
    "    Create one file per most_similar rank position.\n",
    "\"\"\"\n",
    "\n",
    "new_line = []\n",
    "string = ''\n",
    "i = 0\n",
    "linenr = 0\n",
    "\n",
    "for position in range(0, 39, 1):\n",
    "    with open(\"./data/positive_lowerhalf_shuffled_100.txt\") as infile:\n",
    "        for line in infile:\n",
    "            new_line = []\n",
    "            content = TextBlob(line)\n",
    "            nouns = [n for n,t in content.tags if(t == 'NN' or t == 'NNS' or t == 'NNP' or t == 'NNPS')]\n",
    "            for word, tag in content.tags:\n",
    "                if(tag == 'NN' or tag == 'NNS' or tag == 'NNP' or tag == 'NNPS'):\n",
    "                    \n",
    "                    if (len(wn.synsets(word)) > 0):\n",
    "                        synset_0 = wn.synsets(word)[0]\n",
    "                        lemma_names = synset_0.lemma_names()\n",
    "                        # print(lemma_names)\n",
    "                        \n",
    "                        if (position < len(lemma_names)):\n",
    "                            new_line.append(str(lemma_names[position]))\n",
    "                        else:\n",
    "                            new_line.append(word) \n",
    "                    else:\n",
    "                        new_line.append(word)\n",
    "                else:\n",
    "                    new_line.append(word)\n",
    "\n",
    "            if(linenr % 10000 == 0):\n",
    "                print(linenr)\n",
    "            else:\n",
    "                pass\n",
    "            \n",
    "            linenr = linenr + 1\n",
    "            \n",
    "            filename = './data/positive_lowerhalf_shuffled_exchange_' + str(position) + '.txt'\n",
    "            with open(filename, 'a') as file:\n",
    "                if(len(new_line) > 0):\n",
    "                    file.write(' '.join(new_line) + '\\n')\n",
    "                else:\n",
    "                    pass\n",
    "\n",
    "print('done.')"
   ]
  },
  {
   "cell_type": "code",
   "execution_count": 3,
   "metadata": {},
   "outputs": [
    {
     "name": "stdout",
     "output_type": "stream",
     "text": [
      "0\n",
      "done.\n"
     ]
    }
   ],
   "source": [
    "\"\"\"\n",
    "    Open negative lowerhalf shuffeld 100 training instances file. \n",
    "    Read file line by line, find Nouns ('NN', 'NNS', 'NNP', 'NNPS') \n",
    "    and replace with most_similar word, selected rank depending on actual position.\n",
    "    If no most_similar exists, leave the actual word. \n",
    "    Write un- and modified lines to new file.\n",
    "    Create one file per most_similar rank position.\n",
    "\"\"\"\n",
    "\n",
    "new_line = []\n",
    "string = ''\n",
    "i = 0\n",
    "linenr = 0\n",
    "\n",
    "for position in range(0, 39, 1):\n",
    "    with open(\"./data/negative_lowerhalf_shuffled_100.txt\") as infile:\n",
    "        for line in infile:\n",
    "            new_line = []\n",
    "            content = TextBlob(line)\n",
    "            nouns = [n for n,t in content.tags if(t == 'NN' or t == 'NNS' or t == 'NNP' or t == 'NNPS')]\n",
    "            for word, tag in content.tags:\n",
    "                if(tag == 'NN' or tag == 'NNS' or tag == 'NNP' or tag == 'NNPS'):\n",
    "                    \n",
    "                    if (len(wn.synsets(word)) > 0):\n",
    "                        synset_0 = wn.synsets(word)[0]\n",
    "                        lemma_names = synset_0.lemma_names()\n",
    "                        # print(lemma_names)\n",
    "                        \n",
    "                        if (position < len(lemma_names)):\n",
    "                            new_line.append(str(lemma_names[position]))\n",
    "                        else:\n",
    "                            new_line.append(word) \n",
    "                    else:\n",
    "                        new_line.append(word)\n",
    "                else:\n",
    "                    new_line.append(word)\n",
    "\n",
    "            if(linenr % 10000 == 0):\n",
    "                print(linenr)\n",
    "            else:\n",
    "                pass\n",
    "            \n",
    "            linenr = linenr + 1\n",
    "\n",
    "            filename = './data/negative_lowerhalf_shuffled_exchange_' + str(position) + '.txt'\n",
    "            with open(filename, 'a') as file:\n",
    "                if(len(new_line) > 0):\n",
    "                    file.write(' '.join(new_line) + '\\n')\n",
    "\n",
    "print('done.')"
   ]
  }
 ],
 "metadata": {
  "kernelspec": {
   "display_name": "Python 3",
   "language": "python",
   "name": "python3"
  },
  "language_info": {
   "codemirror_mode": {
    "name": "ipython",
    "version": 3
   },
   "file_extension": ".py",
   "mimetype": "text/x-python",
   "name": "python",
   "nbconvert_exporter": "python",
   "pygments_lexer": "ipython3",
   "version": "3.6.8"
  }
 },
 "nbformat": 4,
 "nbformat_minor": 2
}
